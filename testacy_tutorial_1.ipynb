{
  "cells": [
    {
      "cell_type": "markdown",
      "metadata": {
        "id": "O0kH5tKLJw0Q"
      },
      "source": [
        "In this tutorial, we learn how to:\n",
        "- load text+metadata records from a dataset\n",
        "- inspect and preprocess raw texts\n",
        "- add a collection of documents processed by spaCy into a corpus\n",
        "- inspect aggregated corpus metadata\n",
        "- extract different kinds of structured data from one or many documents"
      ]
    },
    {
      "cell_type": "code",
      "execution_count": 6,
      "metadata": {
        "id": "1SVk-TM3BhVn"
      },
      "outputs": [
        {
          "name": "stdout",
          "output_type": "stream",
          "text": [
            "Requirement already satisfied: spacy in /opt/homebrew/lib/python3.11/site-packages (3.7.4)\n",
            "Requirement already satisfied: spacy-legacy<3.1.0,>=3.0.11 in /opt/homebrew/lib/python3.11/site-packages (from spacy) (3.0.12)\n",
            "Requirement already satisfied: spacy-loggers<2.0.0,>=1.0.0 in /opt/homebrew/lib/python3.11/site-packages (from spacy) (1.0.5)\n",
            "Requirement already satisfied: murmurhash<1.1.0,>=0.28.0 in /opt/homebrew/lib/python3.11/site-packages (from spacy) (1.0.10)\n",
            "Requirement already satisfied: cymem<2.1.0,>=2.0.2 in /opt/homebrew/lib/python3.11/site-packages (from spacy) (2.0.8)\n",
            "Requirement already satisfied: preshed<3.1.0,>=3.0.2 in /opt/homebrew/lib/python3.11/site-packages (from spacy) (3.0.9)\n",
            "Requirement already satisfied: thinc<8.3.0,>=8.2.2 in /opt/homebrew/lib/python3.11/site-packages (from spacy) (8.2.3)\n",
            "Requirement already satisfied: wasabi<1.2.0,>=0.9.1 in /opt/homebrew/lib/python3.11/site-packages (from spacy) (1.1.2)\n",
            "Requirement already satisfied: srsly<3.0.0,>=2.4.3 in /opt/homebrew/lib/python3.11/site-packages (from spacy) (2.4.8)\n",
            "Requirement already satisfied: catalogue<2.1.0,>=2.0.6 in /opt/homebrew/lib/python3.11/site-packages (from spacy) (2.0.10)\n",
            "Requirement already satisfied: weasel<0.4.0,>=0.1.0 in /opt/homebrew/lib/python3.11/site-packages (from spacy) (0.3.4)\n",
            "Requirement already satisfied: typer<0.10.0,>=0.3.0 in /opt/homebrew/lib/python3.11/site-packages (from spacy) (0.9.0)\n",
            "Requirement already satisfied: smart-open<7.0.0,>=5.2.1 in /opt/homebrew/lib/python3.11/site-packages (from spacy) (6.4.0)\n",
            "Requirement already satisfied: tqdm<5.0.0,>=4.38.0 in /opt/homebrew/lib/python3.11/site-packages (from spacy) (4.66.2)\n",
            "Requirement already satisfied: requests<3.0.0,>=2.13.0 in /opt/homebrew/lib/python3.11/site-packages (from spacy) (2.31.0)\n",
            "Requirement already satisfied: pydantic!=1.8,!=1.8.1,<3.0.0,>=1.7.4 in /opt/homebrew/lib/python3.11/site-packages (from spacy) (2.6.1)\n",
            "Requirement already satisfied: jinja2 in /opt/homebrew/lib/python3.11/site-packages (from spacy) (3.1.3)\n",
            "Requirement already satisfied: setuptools in /opt/homebrew/lib/python3.11/site-packages (from spacy) (67.6.1)\n",
            "Requirement already satisfied: packaging>=20.0 in /Users/momo/Library/Python/3.11/lib/python/site-packages (from spacy) (23.2)\n",
            "Requirement already satisfied: langcodes<4.0.0,>=3.2.0 in /opt/homebrew/lib/python3.11/site-packages (from spacy) (3.3.0)\n",
            "Requirement already satisfied: numpy>=1.19.0 in /opt/homebrew/lib/python3.11/site-packages (from spacy) (1.26.4)\n",
            "Requirement already satisfied: annotated-types>=0.4.0 in /opt/homebrew/lib/python3.11/site-packages (from pydantic!=1.8,!=1.8.1,<3.0.0,>=1.7.4->spacy) (0.6.0)\n",
            "Requirement already satisfied: pydantic-core==2.16.2 in /opt/homebrew/lib/python3.11/site-packages (from pydantic!=1.8,!=1.8.1,<3.0.0,>=1.7.4->spacy) (2.16.2)\n",
            "Requirement already satisfied: typing-extensions>=4.6.1 in /opt/homebrew/lib/python3.11/site-packages (from pydantic!=1.8,!=1.8.1,<3.0.0,>=1.7.4->spacy) (4.9.0)\n",
            "Requirement already satisfied: charset-normalizer<4,>=2 in /opt/homebrew/lib/python3.11/site-packages (from requests<3.0.0,>=2.13.0->spacy) (3.3.2)\n",
            "Requirement already satisfied: idna<4,>=2.5 in /opt/homebrew/lib/python3.11/site-packages (from requests<3.0.0,>=2.13.0->spacy) (3.6)\n",
            "Requirement already satisfied: urllib3<3,>=1.21.1 in /opt/homebrew/lib/python3.11/site-packages (from requests<3.0.0,>=2.13.0->spacy) (2.2.1)\n",
            "Requirement already satisfied: certifi>=2017.4.17 in /opt/homebrew/lib/python3.11/site-packages (from requests<3.0.0,>=2.13.0->spacy) (2024.2.2)\n",
            "Requirement already satisfied: blis<0.8.0,>=0.7.8 in /opt/homebrew/lib/python3.11/site-packages (from thinc<8.3.0,>=8.2.2->spacy) (0.7.11)\n",
            "Requirement already satisfied: confection<1.0.0,>=0.0.1 in /opt/homebrew/lib/python3.11/site-packages (from thinc<8.3.0,>=8.2.2->spacy) (0.1.4)\n",
            "Requirement already satisfied: click<9.0.0,>=7.1.1 in /opt/homebrew/lib/python3.11/site-packages (from typer<0.10.0,>=0.3.0->spacy) (8.1.7)\n",
            "Requirement already satisfied: cloudpathlib<0.17.0,>=0.7.0 in /opt/homebrew/lib/python3.11/site-packages (from weasel<0.4.0,>=0.1.0->spacy) (0.16.0)\n",
            "Requirement already satisfied: MarkupSafe>=2.0 in /opt/homebrew/lib/python3.11/site-packages (from jinja2->spacy) (2.1.5)\n",
            "Note: you may need to restart the kernel to use updated packages.\n",
            "Requirement already satisfied: textacy in /opt/homebrew/lib/python3.11/site-packages (0.13.0)\n",
            "Requirement already satisfied: cachetools>=4.0.0 in /opt/homebrew/lib/python3.11/site-packages (from textacy) (5.3.2)\n",
            "Requirement already satisfied: catalogue~=2.0 in /opt/homebrew/lib/python3.11/site-packages (from textacy) (2.0.10)\n",
            "Requirement already satisfied: cytoolz>=0.10.1 in /opt/homebrew/lib/python3.11/site-packages (from textacy) (0.12.3)\n",
            "Requirement already satisfied: floret~=0.10.0 in /opt/homebrew/lib/python3.11/site-packages (from textacy) (0.10.5)\n",
            "Requirement already satisfied: jellyfish>=0.8.0 in /opt/homebrew/lib/python3.11/site-packages (from textacy) (1.0.3)\n",
            "Requirement already satisfied: joblib>=0.13.0 in /opt/homebrew/lib/python3.11/site-packages (from textacy) (1.3.2)\n",
            "Requirement already satisfied: networkx>=2.7 in /opt/homebrew/lib/python3.11/site-packages (from textacy) (3.2.1)\n",
            "Requirement already satisfied: numpy>=1.17.0 in /opt/homebrew/lib/python3.11/site-packages (from textacy) (1.26.4)\n",
            "Requirement already satisfied: pyphen>=0.10.0 in /opt/homebrew/lib/python3.11/site-packages (from textacy) (0.14.0)\n",
            "Requirement already satisfied: requests>=2.10.0 in /opt/homebrew/lib/python3.11/site-packages (from textacy) (2.31.0)\n",
            "Requirement already satisfied: scipy>=1.8.0 in /opt/homebrew/lib/python3.11/site-packages (from textacy) (1.12.0)\n",
            "Requirement already satisfied: scikit-learn>=1.0 in /opt/homebrew/lib/python3.11/site-packages (from textacy) (1.4.1.post1)\n",
            "Requirement already satisfied: spacy~=3.0 in /opt/homebrew/lib/python3.11/site-packages (from textacy) (3.7.4)\n",
            "Requirement already satisfied: tqdm>=4.19.6 in /opt/homebrew/lib/python3.11/site-packages (from textacy) (4.66.2)\n",
            "Requirement already satisfied: toolz>=0.8.0 in /opt/homebrew/lib/python3.11/site-packages (from cytoolz>=0.10.1->textacy) (0.12.1)\n",
            "Requirement already satisfied: charset-normalizer<4,>=2 in /opt/homebrew/lib/python3.11/site-packages (from requests>=2.10.0->textacy) (3.3.2)\n",
            "Requirement already satisfied: idna<4,>=2.5 in /opt/homebrew/lib/python3.11/site-packages (from requests>=2.10.0->textacy) (3.6)\n",
            "Requirement already satisfied: urllib3<3,>=1.21.1 in /opt/homebrew/lib/python3.11/site-packages (from requests>=2.10.0->textacy) (2.2.1)\n",
            "Requirement already satisfied: certifi>=2017.4.17 in /opt/homebrew/lib/python3.11/site-packages (from requests>=2.10.0->textacy) (2024.2.2)\n",
            "Requirement already satisfied: threadpoolctl>=2.0.0 in /opt/homebrew/lib/python3.11/site-packages (from scikit-learn>=1.0->textacy) (3.3.0)\n",
            "Requirement already satisfied: spacy-legacy<3.1.0,>=3.0.11 in /opt/homebrew/lib/python3.11/site-packages (from spacy~=3.0->textacy) (3.0.12)\n",
            "Requirement already satisfied: spacy-loggers<2.0.0,>=1.0.0 in /opt/homebrew/lib/python3.11/site-packages (from spacy~=3.0->textacy) (1.0.5)\n",
            "Requirement already satisfied: murmurhash<1.1.0,>=0.28.0 in /opt/homebrew/lib/python3.11/site-packages (from spacy~=3.0->textacy) (1.0.10)\n",
            "Requirement already satisfied: cymem<2.1.0,>=2.0.2 in /opt/homebrew/lib/python3.11/site-packages (from spacy~=3.0->textacy) (2.0.8)\n",
            "Requirement already satisfied: preshed<3.1.0,>=3.0.2 in /opt/homebrew/lib/python3.11/site-packages (from spacy~=3.0->textacy) (3.0.9)\n",
            "Requirement already satisfied: thinc<8.3.0,>=8.2.2 in /opt/homebrew/lib/python3.11/site-packages (from spacy~=3.0->textacy) (8.2.3)\n",
            "Requirement already satisfied: wasabi<1.2.0,>=0.9.1 in /opt/homebrew/lib/python3.11/site-packages (from spacy~=3.0->textacy) (1.1.2)\n",
            "Requirement already satisfied: srsly<3.0.0,>=2.4.3 in /opt/homebrew/lib/python3.11/site-packages (from spacy~=3.0->textacy) (2.4.8)\n",
            "Requirement already satisfied: weasel<0.4.0,>=0.1.0 in /opt/homebrew/lib/python3.11/site-packages (from spacy~=3.0->textacy) (0.3.4)\n",
            "Requirement already satisfied: typer<0.10.0,>=0.3.0 in /opt/homebrew/lib/python3.11/site-packages (from spacy~=3.0->textacy) (0.9.0)\n",
            "Requirement already satisfied: smart-open<7.0.0,>=5.2.1 in /opt/homebrew/lib/python3.11/site-packages (from spacy~=3.0->textacy) (6.4.0)\n",
            "Requirement already satisfied: pydantic!=1.8,!=1.8.1,<3.0.0,>=1.7.4 in /opt/homebrew/lib/python3.11/site-packages (from spacy~=3.0->textacy) (2.6.1)\n",
            "Requirement already satisfied: jinja2 in /opt/homebrew/lib/python3.11/site-packages (from spacy~=3.0->textacy) (3.1.3)\n",
            "Requirement already satisfied: setuptools in /opt/homebrew/lib/python3.11/site-packages (from spacy~=3.0->textacy) (67.6.1)\n",
            "Requirement already satisfied: packaging>=20.0 in /Users/momo/Library/Python/3.11/lib/python/site-packages (from spacy~=3.0->textacy) (23.2)\n",
            "Requirement already satisfied: langcodes<4.0.0,>=3.2.0 in /opt/homebrew/lib/python3.11/site-packages (from spacy~=3.0->textacy) (3.3.0)\n",
            "Requirement already satisfied: annotated-types>=0.4.0 in /opt/homebrew/lib/python3.11/site-packages (from pydantic!=1.8,!=1.8.1,<3.0.0,>=1.7.4->spacy~=3.0->textacy) (0.6.0)\n",
            "Requirement already satisfied: pydantic-core==2.16.2 in /opt/homebrew/lib/python3.11/site-packages (from pydantic!=1.8,!=1.8.1,<3.0.0,>=1.7.4->spacy~=3.0->textacy) (2.16.2)\n",
            "Requirement already satisfied: typing-extensions>=4.6.1 in /opt/homebrew/lib/python3.11/site-packages (from pydantic!=1.8,!=1.8.1,<3.0.0,>=1.7.4->spacy~=3.0->textacy) (4.9.0)\n",
            "Requirement already satisfied: blis<0.8.0,>=0.7.8 in /opt/homebrew/lib/python3.11/site-packages (from thinc<8.3.0,>=8.2.2->spacy~=3.0->textacy) (0.7.11)\n",
            "Requirement already satisfied: confection<1.0.0,>=0.0.1 in /opt/homebrew/lib/python3.11/site-packages (from thinc<8.3.0,>=8.2.2->spacy~=3.0->textacy) (0.1.4)\n",
            "Requirement already satisfied: click<9.0.0,>=7.1.1 in /opt/homebrew/lib/python3.11/site-packages (from typer<0.10.0,>=0.3.0->spacy~=3.0->textacy) (8.1.7)\n",
            "Requirement already satisfied: cloudpathlib<0.17.0,>=0.7.0 in /opt/homebrew/lib/python3.11/site-packages (from weasel<0.4.0,>=0.1.0->spacy~=3.0->textacy) (0.16.0)\n",
            "Requirement already satisfied: MarkupSafe>=2.0 in /opt/homebrew/lib/python3.11/site-packages (from jinja2->spacy~=3.0->textacy) (2.1.5)\n",
            "Note: you may need to restart the kernel to use updated packages.\n"
          ]
        }
      ],
      "source": [
        "%pip install spacy\n",
        "%pip install textacy"
      ]
    },
    {
      "cell_type": "code",
      "execution_count": 8,
      "metadata": {},
      "outputs": [
        {
          "ename": "OSError",
          "evalue": "[E050] Can't find model 'en_core_web_sm'. It doesn't seem to be a Python package or a valid path to a data directory.",
          "output_type": "error",
          "traceback": [
            "\u001b[0;31m---------------------------------------------------------------------------\u001b[0m",
            "\u001b[0;31mOSError\u001b[0m                                   Traceback (most recent call last)",
            "Cell \u001b[0;32mIn[8], line 3\u001b[0m\n\u001b[1;32m      1\u001b[0m \u001b[38;5;28;01mimport\u001b[39;00m \u001b[38;5;21;01mspacy\u001b[39;00m\n\u001b[0;32m----> 3\u001b[0m model \u001b[38;5;241m=\u001b[39m \u001b[43mspacy\u001b[49m\u001b[38;5;241;43m.\u001b[39;49m\u001b[43mload\u001b[49m\u001b[43m(\u001b[49m\u001b[38;5;124;43m'\u001b[39;49m\u001b[38;5;124;43men_core_web_sm\u001b[39;49m\u001b[38;5;124;43m'\u001b[39;49m\u001b[43m)\u001b[49m\n\u001b[1;32m      4\u001b[0m model\n",
            "File \u001b[0;32m/opt/homebrew/lib/python3.11/site-packages/spacy/__init__.py:51\u001b[0m, in \u001b[0;36mload\u001b[0;34m(name, vocab, disable, enable, exclude, config)\u001b[0m\n\u001b[1;32m     27\u001b[0m \u001b[38;5;28;01mdef\u001b[39;00m \u001b[38;5;21mload\u001b[39m(\n\u001b[1;32m     28\u001b[0m     name: Union[\u001b[38;5;28mstr\u001b[39m, Path],\n\u001b[1;32m     29\u001b[0m     \u001b[38;5;241m*\u001b[39m,\n\u001b[0;32m   (...)\u001b[0m\n\u001b[1;32m     34\u001b[0m     config: Union[Dict[\u001b[38;5;28mstr\u001b[39m, Any], Config] \u001b[38;5;241m=\u001b[39m util\u001b[38;5;241m.\u001b[39mSimpleFrozenDict(),\n\u001b[1;32m     35\u001b[0m ) \u001b[38;5;241m-\u001b[39m\u001b[38;5;241m>\u001b[39m Language:\n\u001b[1;32m     36\u001b[0m \u001b[38;5;250m    \u001b[39m\u001b[38;5;124;03m\"\"\"Load a spaCy model from an installed package or a local path.\u001b[39;00m\n\u001b[1;32m     37\u001b[0m \n\u001b[1;32m     38\u001b[0m \u001b[38;5;124;03m    name (str): Package name or model path.\u001b[39;00m\n\u001b[0;32m   (...)\u001b[0m\n\u001b[1;32m     49\u001b[0m \u001b[38;5;124;03m    RETURNS (Language): The loaded nlp object.\u001b[39;00m\n\u001b[1;32m     50\u001b[0m \u001b[38;5;124;03m    \"\"\"\u001b[39;00m\n\u001b[0;32m---> 51\u001b[0m     \u001b[38;5;28;01mreturn\u001b[39;00m \u001b[43mutil\u001b[49m\u001b[38;5;241;43m.\u001b[39;49m\u001b[43mload_model\u001b[49m\u001b[43m(\u001b[49m\n\u001b[1;32m     52\u001b[0m \u001b[43m        \u001b[49m\u001b[43mname\u001b[49m\u001b[43m,\u001b[49m\n\u001b[1;32m     53\u001b[0m \u001b[43m        \u001b[49m\u001b[43mvocab\u001b[49m\u001b[38;5;241;43m=\u001b[39;49m\u001b[43mvocab\u001b[49m\u001b[43m,\u001b[49m\n\u001b[1;32m     54\u001b[0m \u001b[43m        \u001b[49m\u001b[43mdisable\u001b[49m\u001b[38;5;241;43m=\u001b[39;49m\u001b[43mdisable\u001b[49m\u001b[43m,\u001b[49m\n\u001b[1;32m     55\u001b[0m \u001b[43m        \u001b[49m\u001b[43menable\u001b[49m\u001b[38;5;241;43m=\u001b[39;49m\u001b[43menable\u001b[49m\u001b[43m,\u001b[49m\n\u001b[1;32m     56\u001b[0m \u001b[43m        \u001b[49m\u001b[43mexclude\u001b[49m\u001b[38;5;241;43m=\u001b[39;49m\u001b[43mexclude\u001b[49m\u001b[43m,\u001b[49m\n\u001b[1;32m     57\u001b[0m \u001b[43m        \u001b[49m\u001b[43mconfig\u001b[49m\u001b[38;5;241;43m=\u001b[39;49m\u001b[43mconfig\u001b[49m\u001b[43m,\u001b[49m\n\u001b[1;32m     58\u001b[0m \u001b[43m    \u001b[49m\u001b[43m)\u001b[49m\n",
            "File \u001b[0;32m/opt/homebrew/lib/python3.11/site-packages/spacy/util.py:472\u001b[0m, in \u001b[0;36mload_model\u001b[0;34m(name, vocab, disable, enable, exclude, config)\u001b[0m\n\u001b[1;32m    470\u001b[0m \u001b[38;5;28;01mif\u001b[39;00m name \u001b[38;5;129;01min\u001b[39;00m OLD_MODEL_SHORTCUTS:\n\u001b[1;32m    471\u001b[0m     \u001b[38;5;28;01mraise\u001b[39;00m \u001b[38;5;167;01mIOError\u001b[39;00m(Errors\u001b[38;5;241m.\u001b[39mE941\u001b[38;5;241m.\u001b[39mformat(name\u001b[38;5;241m=\u001b[39mname, full\u001b[38;5;241m=\u001b[39mOLD_MODEL_SHORTCUTS[name]))  \u001b[38;5;66;03m# type: ignore[index]\u001b[39;00m\n\u001b[0;32m--> 472\u001b[0m \u001b[38;5;28;01mraise\u001b[39;00m \u001b[38;5;167;01mIOError\u001b[39;00m(Errors\u001b[38;5;241m.\u001b[39mE050\u001b[38;5;241m.\u001b[39mformat(name\u001b[38;5;241m=\u001b[39mname))\n",
            "\u001b[0;31mOSError\u001b[0m: [E050] Can't find model 'en_core_web_sm'. It doesn't seem to be a Python package or a valid path to a data directory."
          ]
        }
      ],
      "source": [
        "%python -m spacy download en_core_web_sm"
      ]
    },
    {
      "cell_type": "code",
      "execution_count": 15,
      "metadata": {
        "id": "SUBxCULCBY_r"
      },
      "outputs": [
        {
          "ename": "ModuleNotFoundError",
          "evalue": "No module named 'en_core_web_sm'",
          "output_type": "error",
          "traceback": [
            "\u001b[0;31m---------------------------------------------------------------------------\u001b[0m",
            "\u001b[0;31mModuleNotFoundError\u001b[0m                       Traceback (most recent call last)",
            "Cell \u001b[0;32mIn[15], line 4\u001b[0m\n\u001b[1;32m      1\u001b[0m \u001b[38;5;66;03m# Explore how certain members of the U.S. Congress have spoken about 'workers'\u001b[39;00m\n\u001b[1;32m      2\u001b[0m \u001b[38;5;66;03m#   - dataset of thousands of speeches sourced from the Congressional Record.\u001b[39;00m\n\u001b[0;32m----> 4\u001b[0m \u001b[38;5;28;01mimport\u001b[39;00m \u001b[38;5;21;01men_core_web_sm\u001b[39;00m\n\u001b[1;32m      6\u001b[0m nlp \u001b[38;5;241m=\u001b[39m en_core_web_sm\u001b[38;5;241m.\u001b[39mload()\n\u001b[1;32m      7\u001b[0m nlp\n",
            "\u001b[0;31mModuleNotFoundError\u001b[0m: No module named 'en_core_web_sm'"
          ]
        }
      ],
      "source": [
        "# Explore how certain members of the U.S. Congress have spoken about 'workers'\n",
        "#   - dataset of thousands of speeches sourced from the Congressional Record.\n",
        "\n",
        "import textacy.datasets\n",
        "dataset = textacy.datasets.CapitolWords()\n",
        "dataset.info\n",
        "{'name': 'capitol_words',\n",
        " 'site_url': 'http://sunlightlabs.github.io/Capitol-Words/',\n",
        " 'description': 'Collection of ~11k speeches in the Congressional Record given by notable U.S. politicians between Jan 1996 and Jun 2016.'}\n",
        "dataset.download()\n"
      ]
    },
    {
      "cell_type": "code",
      "execution_count": 4,
      "metadata": {
        "id": "7yd3rI-nBvhu"
      },
      "outputs": [
        {
          "data": {
            "text/plain": [
              "Record(text='Mr. Speaker, 480,000 Federal employees are working without pay, a form of involuntary servitude; 280,000 Federal employees are not working, and they will be paid. Virtually all of these workers have mortgages to pay, children to feed, and financial obligations to meet.\\nMr. Speaker, what is happening to these workers is immoral, is wrong, and must be rectified immediately. Newt Gingrich and the Republican leadership must not continue to hold the House and the American people hostage while they push their disastrous 7-year balanced budget plan. The gentleman from Georgia, Mr. Gingrich, and the Republican leadership must join Senator Dole and the entire Senate and pass a continuing resolution now, now to reopen Government.\\nMr. Speaker, that is what the American people want, that is what they need, and that is what this body must do.', meta={'date': '1996-01-04', 'congress': 104, 'speaker_name': 'Bernie Sanders', 'speaker_party': 'I', 'title': 'JOIN THE SENATE AND PASS A CONTINUING RESOLUTION', 'chamber': 'House'})"
            ]
          },
          "execution_count": 4,
          "metadata": {},
          "output_type": "execute_result"
        }
      ],
      "source": [
        "# Each record contains full text of speech and basic metadata\n",
        "\n",
        "record = next(dataset.records(limit=1))\n",
        "record\n"
      ]
    },
    {
      "cell_type": "code",
      "execution_count": 9,
      "metadata": {
        "id": "IDS9s37yCBJp"
      },
      "outputs": [
        {
          "data": {
            "text/plain": [
              "[('ker, 480,000 Federal employees are ',\n",
              "  'working',\n",
              "  ' without pay, a form of involuntary'),\n",
              " (' 280,000 Federal employees are not ',\n",
              "  'working',\n",
              "  ', and they will be paid. Virtually '),\n",
              " ('ll be paid. Virtually all of these ',\n",
              "  'workers',\n",
              "  ' have mortgages to pay, children to'),\n",
              " ('peaker, what is happening to these ',\n",
              "  'workers',\n",
              "  ' is immoral, is wrong, and must be ')]"
            ]
          },
          "execution_count": 9,
          "metadata": {},
          "output_type": "execute_result"
        }
      ],
      "source": [
        "# Avoid a full read-through and extract only specific parts of interest\n",
        "\n",
        "from textacy import extract\n",
        "textacy.set_doc_extensions(\"extract\")  # just setting these now -- we'll use them later!\n",
        "\n",
        "# As a first step, inspect our keywords in context\n",
        "list(extract.keyword_in_context(record.text, \"work(ing|ers?)\", window_width=35))\n"
      ]
    },
    {
      "cell_type": "code",
      "execution_count": 6,
      "metadata": {
        "id": "LuoBKF4cCO42"
      },
      "outputs": [
        {
          "data": {
            "text/plain": [
              "'Mr. Speaker, 480,000 Federal employees are working without pay, a form of involuntary servitude; 280,000 Federal employees are not working, and they will be paid. Virtually all of these workers have m'"
            ]
          },
          "execution_count": 6,
          "metadata": {},
          "output_type": "execute_result"
        }
      ],
      "source": [
        "# preprocess the text to get rid of potential data quality issues and other distractions that may affect our analysis\n",
        "\n",
        "from textacy import preprocessing as preproc\n",
        "\n",
        "preprocessor = preproc.make_pipeline(\n",
        "    preproc.normalize.unicode,\n",
        "    preproc.normalize.quotation_marks,\n",
        "    preproc.normalize.whitespace,\n",
        ")\n",
        "preproc_text = preprocessor(record.text)\n",
        "preproc_text[:200]\n",
        "\n",
        "# changes are “destructive” — can’t reconstruct the original without keeping a copy around or re-loading it from disk\n"
      ]
    },
    {
      "cell_type": "code",
      "execution_count": 7,
      "metadata": {
        "id": "BmzZgvoXCoDg"
      },
      "outputs": [
        {
          "ename": "OSError",
          "evalue": "[E050] Can't find model 'en_core_web_sm'. It doesn't seem to be a Python package or a valid path to a data directory.",
          "output_type": "error",
          "traceback": [
            "\u001b[0;31m---------------------------------------------------------------------------\u001b[0m",
            "\u001b[0;31mOSError\u001b[0m                                   Traceback (most recent call last)",
            "Cell \u001b[0;32mIn[7], line 3\u001b[0m\n\u001b[1;32m      1\u001b[0m \u001b[38;5;66;03m# make a spaCy Doc by applying a language-specific model pipeline to the text\u001b[39;00m\n\u001b[0;32m----> 3\u001b[0m doc \u001b[38;5;241m=\u001b[39m \u001b[43mtextacy\u001b[49m\u001b[38;5;241;43m.\u001b[39;49m\u001b[43mmake_spacy_doc\u001b[49m\u001b[43m(\u001b[49m\u001b[43m(\u001b[49m\u001b[43mpreproc_text\u001b[49m\u001b[43m,\u001b[49m\u001b[43m \u001b[49m\u001b[43mrecord\u001b[49m\u001b[38;5;241;43m.\u001b[39;49m\u001b[43mmeta\u001b[49m\u001b[43m)\u001b[49m\u001b[43m,\u001b[49m\u001b[43m \u001b[49m\u001b[43mlang\u001b[49m\u001b[38;5;241;43m=\u001b[39;49m\u001b[38;5;124;43m\"\u001b[39;49m\u001b[38;5;124;43men_core_web_sm\u001b[39;49m\u001b[38;5;124;43m\"\u001b[39;49m\u001b[43m)\u001b[49m\n\u001b[1;32m      4\u001b[0m doc\u001b[38;5;241m.\u001b[39m_\u001b[38;5;241m.\u001b[39mpreview\n\u001b[1;32m      5\u001b[0m doc\u001b[38;5;241m.\u001b[39m_\u001b[38;5;241m.\u001b[39mmeta\n",
            "File \u001b[0;32m/opt/homebrew/lib/python3.11/site-packages/textacy/spacier/core.py:151\u001b[0m, in \u001b[0;36mmake_spacy_doc\u001b[0;34m(data, lang, chunk_size)\u001b[0m\n\u001b[1;32m    149\u001b[0m     \u001b[38;5;28;01mreturn\u001b[39;00m _make_spacy_doc_from_doc(data, lang)\n\u001b[1;32m    150\u001b[0m \u001b[38;5;28;01melif\u001b[39;00m utils\u001b[38;5;241m.\u001b[39mis_record(data):\n\u001b[0;32m--> 151\u001b[0m     \u001b[38;5;28;01mreturn\u001b[39;00m \u001b[43m_make_spacy_doc_from_record\u001b[49m\u001b[43m(\u001b[49m\u001b[43mdata\u001b[49m\u001b[43m,\u001b[49m\u001b[43m \u001b[49m\u001b[43mlang\u001b[49m\u001b[43m,\u001b[49m\u001b[43m \u001b[49m\u001b[43mchunk_size\u001b[49m\u001b[43m)\u001b[49m\n\u001b[1;32m    152\u001b[0m \u001b[38;5;28;01melse\u001b[39;00m:\n\u001b[1;32m    153\u001b[0m     \u001b[38;5;28;01mraise\u001b[39;00m \u001b[38;5;167;01mTypeError\u001b[39;00m(errors\u001b[38;5;241m.\u001b[39mtype_invalid_msg(\u001b[38;5;124m\"\u001b[39m\u001b[38;5;124mdata\u001b[39m\u001b[38;5;124m\"\u001b[39m, \u001b[38;5;28mtype\u001b[39m(data), types\u001b[38;5;241m.\u001b[39mDocData))\n",
            "File \u001b[0;32m/opt/homebrew/lib/python3.11/site-packages/textacy/spacier/core.py:171\u001b[0m, in \u001b[0;36m_make_spacy_doc_from_record\u001b[0;34m(record, lang, chunk_size)\u001b[0m\n\u001b[1;32m    167\u001b[0m \u001b[38;5;28;01mdef\u001b[39;00m \u001b[38;5;21m_make_spacy_doc_from_record\u001b[39m(\n\u001b[1;32m    168\u001b[0m     record: types\u001b[38;5;241m.\u001b[39mRecord, lang: types\u001b[38;5;241m.\u001b[39mLangLikeInContext, chunk_size: Optional[\u001b[38;5;28mint\u001b[39m]\n\u001b[1;32m    169\u001b[0m ) \u001b[38;5;241m-\u001b[39m\u001b[38;5;241m>\u001b[39m Doc:\n\u001b[1;32m    170\u001b[0m     text, meta \u001b[38;5;241m=\u001b[39m record\n\u001b[0;32m--> 171\u001b[0m     spacy_lang \u001b[38;5;241m=\u001b[39m \u001b[43msputils\u001b[49m\u001b[38;5;241;43m.\u001b[39;49m\u001b[43mresolve_langlikeincontext\u001b[49m\u001b[43m(\u001b[49m\u001b[43mtext\u001b[49m\u001b[43m,\u001b[49m\u001b[43m \u001b[49m\u001b[43mlang\u001b[49m\u001b[43m)\u001b[49m\n\u001b[1;32m    172\u001b[0m     \u001b[38;5;28;01mif\u001b[39;00m chunk_size:\n\u001b[1;32m    173\u001b[0m         doc \u001b[38;5;241m=\u001b[39m _make_spacy_doc_from_text_chunks(text, spacy_lang, chunk_size)\n",
            "File \u001b[0;32m/opt/homebrew/lib/python3.11/site-packages/textacy/spacier/utils.py:209\u001b[0m, in \u001b[0;36mresolve_langlikeincontext\u001b[0;34m(text, lang)\u001b[0m\n\u001b[1;32m    207\u001b[0m     \u001b[38;5;28;01mreturn\u001b[39;00m lang\n\u001b[1;32m    208\u001b[0m \u001b[38;5;28;01melif\u001b[39;00m \u001b[38;5;28misinstance\u001b[39m(lang, (\u001b[38;5;28mstr\u001b[39m, pathlib\u001b[38;5;241m.\u001b[39mPath)):\n\u001b[0;32m--> 209\u001b[0m     \u001b[38;5;28;01mreturn\u001b[39;00m \u001b[43mcore\u001b[49m\u001b[38;5;241;43m.\u001b[39;49m\u001b[43mload_spacy_lang\u001b[49m\u001b[43m(\u001b[49m\u001b[43mlang\u001b[49m\u001b[43m)\u001b[49m\n\u001b[1;32m    210\u001b[0m \u001b[38;5;28;01melif\u001b[39;00m \u001b[38;5;28mcallable\u001b[39m(lang):\n\u001b[1;32m    211\u001b[0m     \u001b[38;5;28;01mreturn\u001b[39;00m resolve_langlikeincontext(text, lang(text))\n",
            "File \u001b[0;32m/opt/homebrew/lib/python3.11/site-packages/cachetools/__init__.py:737\u001b[0m, in \u001b[0;36mcached.<locals>.decorator.<locals>.wrapper\u001b[0;34m(*args, **kwargs)\u001b[0m\n\u001b[1;32m    735\u001b[0m \u001b[38;5;28;01mexcept\u001b[39;00m \u001b[38;5;167;01mKeyError\u001b[39;00m:\n\u001b[1;32m    736\u001b[0m     \u001b[38;5;28;01mpass\u001b[39;00m  \u001b[38;5;66;03m# key not found\u001b[39;00m\n\u001b[0;32m--> 737\u001b[0m v \u001b[38;5;241m=\u001b[39m \u001b[43mfunc\u001b[49m\u001b[43m(\u001b[49m\u001b[38;5;241;43m*\u001b[39;49m\u001b[43margs\u001b[49m\u001b[43m,\u001b[49m\u001b[43m \u001b[49m\u001b[38;5;241;43m*\u001b[39;49m\u001b[38;5;241;43m*\u001b[39;49m\u001b[43mkwargs\u001b[49m\u001b[43m)\u001b[49m\n\u001b[1;32m    738\u001b[0m \u001b[38;5;28;01mtry\u001b[39;00m:\n\u001b[1;32m    739\u001b[0m     cache[k] \u001b[38;5;241m=\u001b[39m v\n",
            "File \u001b[0;32m/opt/homebrew/lib/python3.11/site-packages/textacy/spacier/core.py:64\u001b[0m, in \u001b[0;36mload_spacy_lang\u001b[0;34m(name, **kwargs)\u001b[0m\n\u001b[1;32m     26\u001b[0m \u001b[38;5;129m@cached\u001b[39m(cache\u001b[38;5;241m.\u001b[39mLRU_CACHE, key\u001b[38;5;241m=\u001b[39mfunctools\u001b[38;5;241m.\u001b[39mpartial(hashkey, \u001b[38;5;124m\"\u001b[39m\u001b[38;5;124mspacy_lang\u001b[39m\u001b[38;5;124m\"\u001b[39m))\n\u001b[1;32m     27\u001b[0m \u001b[38;5;28;01mdef\u001b[39;00m \u001b[38;5;21mload_spacy_lang\u001b[39m(name: \u001b[38;5;28mstr\u001b[39m \u001b[38;5;241m|\u001b[39m pathlib\u001b[38;5;241m.\u001b[39mPath, \u001b[38;5;241m*\u001b[39m\u001b[38;5;241m*\u001b[39mkwargs) \u001b[38;5;241m-\u001b[39m\u001b[38;5;241m>\u001b[39m Language:\n\u001b[1;32m     28\u001b[0m \u001b[38;5;250m    \u001b[39m\u001b[38;5;124;03m\"\"\"\u001b[39;00m\n\u001b[1;32m     29\u001b[0m \u001b[38;5;124;03m    Load a spaCy ``Language`` — a shared vocabulary and language-specific data\u001b[39;00m\n\u001b[1;32m     30\u001b[0m \u001b[38;5;124;03m    for tokenizing text, and (if available) model data and a processing pipeline\u001b[39;00m\n\u001b[0;32m   (...)\u001b[0m\n\u001b[1;32m     62\u001b[0m \u001b[38;5;124;03m        https://spacy.io/api/top-level#spacy.load\u001b[39;00m\n\u001b[1;32m     63\u001b[0m \u001b[38;5;124;03m    \"\"\"\u001b[39;00m\n\u001b[0;32m---> 64\u001b[0m     spacy_lang \u001b[38;5;241m=\u001b[39m \u001b[43mspacy\u001b[49m\u001b[38;5;241;43m.\u001b[39;49m\u001b[43mload\u001b[49m\u001b[43m(\u001b[49m\u001b[43mname\u001b[49m\u001b[43m,\u001b[49m\u001b[43m \u001b[49m\u001b[38;5;241;43m*\u001b[39;49m\u001b[38;5;241;43m*\u001b[39;49m\u001b[43mkwargs\u001b[49m\u001b[43m)\u001b[49m\n\u001b[1;32m     65\u001b[0m     LOGGER\u001b[38;5;241m.\u001b[39minfo(\u001b[38;5;124m\"\u001b[39m\u001b[38;5;124mloaded \u001b[39m\u001b[38;5;124m'\u001b[39m\u001b[38;5;132;01m%s\u001b[39;00m\u001b[38;5;124m'\u001b[39m\u001b[38;5;124m spaCy language pipeline\u001b[39m\u001b[38;5;124m\"\u001b[39m, name)\n\u001b[1;32m     66\u001b[0m     \u001b[38;5;28;01mreturn\u001b[39;00m spacy_lang\n",
            "File \u001b[0;32m/opt/homebrew/lib/python3.11/site-packages/spacy/__init__.py:51\u001b[0m, in \u001b[0;36mload\u001b[0;34m(name, vocab, disable, enable, exclude, config)\u001b[0m\n\u001b[1;32m     27\u001b[0m \u001b[38;5;28;01mdef\u001b[39;00m \u001b[38;5;21mload\u001b[39m(\n\u001b[1;32m     28\u001b[0m     name: Union[\u001b[38;5;28mstr\u001b[39m, Path],\n\u001b[1;32m     29\u001b[0m     \u001b[38;5;241m*\u001b[39m,\n\u001b[0;32m   (...)\u001b[0m\n\u001b[1;32m     34\u001b[0m     config: Union[Dict[\u001b[38;5;28mstr\u001b[39m, Any], Config] \u001b[38;5;241m=\u001b[39m util\u001b[38;5;241m.\u001b[39mSimpleFrozenDict(),\n\u001b[1;32m     35\u001b[0m ) \u001b[38;5;241m-\u001b[39m\u001b[38;5;241m>\u001b[39m Language:\n\u001b[1;32m     36\u001b[0m \u001b[38;5;250m    \u001b[39m\u001b[38;5;124;03m\"\"\"Load a spaCy model from an installed package or a local path.\u001b[39;00m\n\u001b[1;32m     37\u001b[0m \n\u001b[1;32m     38\u001b[0m \u001b[38;5;124;03m    name (str): Package name or model path.\u001b[39;00m\n\u001b[0;32m   (...)\u001b[0m\n\u001b[1;32m     49\u001b[0m \u001b[38;5;124;03m    RETURNS (Language): The loaded nlp object.\u001b[39;00m\n\u001b[1;32m     50\u001b[0m \u001b[38;5;124;03m    \"\"\"\u001b[39;00m\n\u001b[0;32m---> 51\u001b[0m     \u001b[38;5;28;01mreturn\u001b[39;00m \u001b[43mutil\u001b[49m\u001b[38;5;241;43m.\u001b[39;49m\u001b[43mload_model\u001b[49m\u001b[43m(\u001b[49m\n\u001b[1;32m     52\u001b[0m \u001b[43m        \u001b[49m\u001b[43mname\u001b[49m\u001b[43m,\u001b[49m\n\u001b[1;32m     53\u001b[0m \u001b[43m        \u001b[49m\u001b[43mvocab\u001b[49m\u001b[38;5;241;43m=\u001b[39;49m\u001b[43mvocab\u001b[49m\u001b[43m,\u001b[49m\n\u001b[1;32m     54\u001b[0m \u001b[43m        \u001b[49m\u001b[43mdisable\u001b[49m\u001b[38;5;241;43m=\u001b[39;49m\u001b[43mdisable\u001b[49m\u001b[43m,\u001b[49m\n\u001b[1;32m     55\u001b[0m \u001b[43m        \u001b[49m\u001b[43menable\u001b[49m\u001b[38;5;241;43m=\u001b[39;49m\u001b[43menable\u001b[49m\u001b[43m,\u001b[49m\n\u001b[1;32m     56\u001b[0m \u001b[43m        \u001b[49m\u001b[43mexclude\u001b[49m\u001b[38;5;241;43m=\u001b[39;49m\u001b[43mexclude\u001b[49m\u001b[43m,\u001b[49m\n\u001b[1;32m     57\u001b[0m \u001b[43m        \u001b[49m\u001b[43mconfig\u001b[49m\u001b[38;5;241;43m=\u001b[39;49m\u001b[43mconfig\u001b[49m\u001b[43m,\u001b[49m\n\u001b[1;32m     58\u001b[0m \u001b[43m    \u001b[49m\u001b[43m)\u001b[49m\n",
            "File \u001b[0;32m/opt/homebrew/lib/python3.11/site-packages/spacy/util.py:472\u001b[0m, in \u001b[0;36mload_model\u001b[0;34m(name, vocab, disable, enable, exclude, config)\u001b[0m\n\u001b[1;32m    470\u001b[0m \u001b[38;5;28;01mif\u001b[39;00m name \u001b[38;5;129;01min\u001b[39;00m OLD_MODEL_SHORTCUTS:\n\u001b[1;32m    471\u001b[0m     \u001b[38;5;28;01mraise\u001b[39;00m \u001b[38;5;167;01mIOError\u001b[39;00m(Errors\u001b[38;5;241m.\u001b[39mE941\u001b[38;5;241m.\u001b[39mformat(name\u001b[38;5;241m=\u001b[39mname, full\u001b[38;5;241m=\u001b[39mOLD_MODEL_SHORTCUTS[name]))  \u001b[38;5;66;03m# type: ignore[index]\u001b[39;00m\n\u001b[0;32m--> 472\u001b[0m \u001b[38;5;28;01mraise\u001b[39;00m \u001b[38;5;167;01mIOError\u001b[39;00m(Errors\u001b[38;5;241m.\u001b[39mE050\u001b[38;5;241m.\u001b[39mformat(name\u001b[38;5;241m=\u001b[39mname))\n",
            "\u001b[0;31mOSError\u001b[0m: [E050] Can't find model 'en_core_web_sm'. It doesn't seem to be a Python package or a valid path to a data directory."
          ]
        }
      ],
      "source": [
        "# make a spaCy Doc by applying a language-specific model pipeline to the text\n",
        "\n",
        "doc = textacy.make_spacy_doc((preproc_text, record.meta), lang=\"en_core_web_sm\")\n",
        "doc._.preview\n",
        "doc._.meta\n"
      ]
    },
    {
      "cell_type": "code",
      "execution_count": null,
      "metadata": {},
      "outputs": [],
      "source": [
        "# make a spaCy Doc by applying a language-specific model pipeline to the text\n",
        "\n",
        "doc = textacy.make_spacy_doc((preproc_text, record.meta), lang=\"en_core_web_sm\")\n",
        "doc._.preview\n",
        "doc._.meta\n"
      ]
    },
    {
      "cell_type": "code",
      "execution_count": null,
      "metadata": {
        "colab": {
          "base_uri": "https://localhost:8080/"
        },
        "id": "_anzq0GjC5_a",
        "outputId": "40c6fc2c-c530-4f9f-954b-08d0a1ef3724"
      },
      "outputs": [
        {
          "data": {
            "text/plain": [
              "[these workers, these workers]"
            ]
          },
          "execution_count": 10,
          "metadata": {},
          "output_type": "execute_result"
        }
      ],
      "source": [
        "# get a sense of how 'workers' are described using annotated part-of-speech tags\n",
        "\n",
        "# extract just the adjectives and determinants immediately preceding our keyword\n",
        "patterns = [\n",
        "    {\n",
        "        \"POS\": {\n",
        "            \"IN\": [\"ADJ\", \"DET\"]\n",
        "            },\n",
        "        \"OP\": \"+\"\n",
        "    },\n",
        "    {\n",
        "        \"ORTH\": {\n",
        "            \"REGEX\": \"workers?\"\n",
        "            }\n",
        "    }\n",
        "]\n",
        "token_matches = extract.token_matches(doc, patterns)\n",
        "list(token_matches)\n",
        "\n",
        "# examples aren’t very interesting. would like results aggregated over all speeches: skilled workers, American workers, young workers..."
      ]
    },
    {
      "cell_type": "code",
      "execution_count": null,
      "metadata": {
        "colab": {
          "base_uri": "https://localhost:8080/"
        },
        "id": "kSZIpU4SDapN",
        "outputId": "85879616-47d2-4050-a8b5-6e1ec1e66f43"
      },
      "outputs": [
        {
          "name": "stdout",
          "output_type": "stream",
          "text": [
            "Corpus(500 docs, 291289 tokens)\n"
          ]
        }
      ],
      "source": [
        "# To accomplish this, load many records into a textacy.Corpus\n",
        "\n",
        "records = dataset.records(limit=500)\n",
        "preproc_records = ((preprocessor(text), meta) for text, meta in records)\n",
        "corpus = textacy.Corpus(\"en_core_web_sm\", data=preproc_records)\n",
        "print(corpus)"
      ]
    },
    {
      "cell_type": "code",
      "execution_count": null,
      "metadata": {
        "colab": {
          "base_uri": "https://localhost:8080/"
        },
        "id": "ozI94BWNDpna",
        "outputId": "80214e6e-9563-41a0-c745-27b2b4f68ce1"
      },
      "outputs": [
        {
          "name": "stdout",
          "output_type": "stream",
          "text": [
            "('1996-01-04', '1997-04-24')\n",
            "Counter({'Rick Santorum': 147, 'Joseph Biden': 140, 'John Kasich': 99, 'Bernie Sanders': 92, 'Lindsey Graham': 22})\n"
          ]
        }
      ],
      "source": [
        "# get a better sense of what’s in our corpus by leveraging the documents’ metadata\n",
        "import collections\n",
        "\n",
        "date = corpus.agg_metadata(\"date\", min), corpus.agg_metadata(\"date\", max)\n",
        "speaker_name = corpus.agg_metadata(\"speaker_name\", collections.Counter)\n",
        "\n",
        "print(date)\n",
        "print(speaker_name)"
      ]
    },
    {
      "cell_type": "code",
      "execution_count": null,
      "metadata": {
        "colab": {
          "base_uri": "https://localhost:8080/"
        },
        "id": "Bt_F6lcMGwPm",
        "outputId": "c01986bc-4770-4a94-ed5a-830002bf7ae0"
      },
      "outputs": [
        {
          "data": {
            "text/plain": [
              "[('american worker', 38),\n",
              " ('those worker', 5),\n",
              " ('the worker', 5),\n",
              " ('average american worker', 4),\n",
              " ('the average american worker', 4),\n",
              " ('more worker', 3),\n",
              " ('nonunion worker', 3),\n",
              " ('these worker', 2),\n",
              " ('federal worker', 2),\n",
              " ('that worker', 2),\n",
              " ('young worker', 2),\n",
              " ('skilled worker', 1),\n",
              " ('the more worker', 1),\n",
              " ('average worker', 1),\n",
              " ('young american worker', 1),\n",
              " ('most american worker', 1),\n",
              " ('any worker', 1),\n",
              " ('a worker', 1),\n",
              " ('social worker', 1),\n",
              " ('the social worker', 1)]"
            ]
          },
          "execution_count": 18,
          "metadata": {},
          "output_type": "execute_result"
        }
      ],
      "source": [
        "# extract matches from each processed document\n",
        "\n",
        "import itertools\n",
        "\n",
        "matches = itertools.chain.from_iterable(extract.token_matches(doc, patterns) for doc in corpus)\n",
        "\n",
        "# lemmatize their texts for consistency\n",
        "# inspect the most common descriptions of workers\n",
        "collections.Counter(match.lemma_ for match in matches).most_common(20)\n"
      ]
    },
    {
      "cell_type": "code",
      "execution_count": null,
      "metadata": {
        "colab": {
          "base_uri": "https://localhost:8080/"
        },
        "id": "6bnCV2c0Hvuk",
        "outputId": "675fd96c-d2c1-4917-964f-4622c632ce67"
      },
      "outputs": [
        {
          "data": {
            "text/plain": [
              "[('year balanced budget plan', 0.033721812470386026),\n",
              " ('Mr. Speaker', 0.032162715590532916),\n",
              " ('Mr. Gingrich', 0.031358819981176664),\n",
              " ('american people', 0.02612752273629427),\n",
              " ('republican leadership', 0.025418705021243045),\n",
              " ('federal employee', 0.021731159162187104),\n",
              " ('Newt Gingrich', 0.01988327361247088),\n",
              " ('pay', 0.018930131314143193),\n",
              " ('involuntary servitude', 0.015559235022115406),\n",
              " ('entire Senate', 0.015032623278646105)]"
            ]
          },
          "execution_count": 19,
          "metadata": {},
          "output_type": "execute_result"
        }
      ],
      "source": [
        "# To better understand the context of these mentions, extract keyterms (the most important or “key” terms)\n",
        "\n",
        "corpus[0]._.extract_keyterms(\"textrank\", normalize=\"lemma\", window_size=10, edge_weighting=\"count\", topn=10)\n"
      ]
    },
    {
      "cell_type": "code",
      "execution_count": null,
      "metadata": {
        "colab": {
          "base_uri": "https://localhost:8080/"
        },
        "id": "H-iASaVvH_Ev",
        "outputId": "86bc0be8-e3f7-4af5-deb7-4dd0a0aaf81b"
      },
      "outputs": [
        {
          "data": {
            "text/plain": [
              "[('minimum wage today', 0.15268345523692883),\n",
              " ('Mr. Speaker', 0.12629658074837496),\n",
              " ('real wage', 0.11170539679079608),\n",
              " ('minimum wage', 0.10559792485488079),\n",
              " ('wage job', 0.10102361828065554),\n",
              " ('american worker', 0.09808577723575501),\n",
              " ('family friendly company', 0.07527248179516885),\n",
              " ('american people', 0.07230595280822841),\n",
              " ('family work strategy', 0.07139211174164181),\n",
              " ('new job', 0.07009455277537283),\n",
              " ('tax dollar', 0.06415552977734736),\n",
              " ('violent crime trust fund', 0.0606067871587139),\n",
              " ('crime bill trust fund', 0.060534358199475835),\n",
              " ('crime law trust fund', 0.05916903052361145),\n",
              " ('time job', 0.05699067136562007),\n",
              " ('russian poultry market', 0.05179865219250223),\n",
              " ('temporary job', 0.051032675437375746),\n",
              " ('low wage job', 0.05086241618977966),\n",
              " ('health care reform bill', 0.05047788075809563),\n",
              " ('Kennedy health insurance reform bill', 0.05024956756215013)]"
            ]
          },
          "execution_count": 21,
          "metadata": {},
          "output_type": "execute_result"
        }
      ],
      "source": [
        "# Now, select the subset of speeches in which “worker(s)” were mentioned\n",
        "docs_mentioning_workers = corpus.get(lambda doc: any(doc._.extract_regex_matches(\"workers?\")))\n",
        "\n",
        "# extract the keyterms from each and aggregaate\n",
        "kt_weights = collections.Counter()\n",
        "\n",
        "for doc in docs_mentioning_workers:\n",
        "  keyterms = doc._.extract_keyterms(\n",
        "      \"textrank\", normalize=\"lemma\",\n",
        "      window_size=10,\n",
        "      edge_weighting=\"count\",\n",
        "      topn=10\n",
        "  )\n",
        "  kt_weights.update(dict(keyterms))\n",
        "\n",
        "# rank the results\n",
        "kt_weights.most_common(20)\n",
        "\n",
        "# we can see from the list that 'workers' are brought up in discussion of jobs, the minimum wage, and trust funds. Makes sense!"
      ]
    }
  ],
  "metadata": {
    "colab": {
      "provenance": []
    },
    "kernelspec": {
      "display_name": "Python 3",
      "name": "python3"
    },
    "language_info": {
      "codemirror_mode": {
        "name": "ipython",
        "version": 3
      },
      "file_extension": ".py",
      "mimetype": "text/x-python",
      "name": "python",
      "nbconvert_exporter": "python",
      "pygments_lexer": "ipython3",
      "version": "3.11.3"
    }
  },
  "nbformat": 4,
  "nbformat_minor": 0
}
